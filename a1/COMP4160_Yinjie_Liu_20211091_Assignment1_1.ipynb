{
 "cells": [
  {
   "cell_type": "markdown",
   "id": "ec790143",
   "metadata": {},
   "source": [
    "# COMP4160_Yinjie_Liu_20211091_Assignment1_1"
   ]
  },
  {
   "cell_type": "markdown",
   "id": "8666763c",
   "metadata": {},
   "source": [
    "In this assignment I would like to collect data from [US Energy Information Administration](https://www.eia.gov/opendata) \n",
    "for different types of energy imports and exports"
   ]
  },
  {
   "cell_type": "markdown",
   "id": "02e84396",
   "metadata": {},
   "source": [
    "This notebook covers Task 1 - Data Collection. Since this API provides different types of energy imports and exports as well as total energy imports and exports, at first I will extract json data from total energy API query browser as demonstrations and then extract, save and analyse specific engery imports and exports in details."
   ]
  },
  {
   "cell_type": "code",
   "execution_count": null,
   "id": "b9bf8d55",
   "metadata": {},
   "outputs": [],
   "source": [
    "import json, requests, urllib\n",
    "from pathlib import Path\n",
    "from datetime import datetime\n",
    "import pandas as pd\n",
    "import matplotlib\n",
    "import matplotlib.pyplot as plt\n",
    "%matplotlib inline"
   ]
  },
  {
   "cell_type": "markdown",
   "id": "30f4e8ce",
   "metadata": {},
   "source": [
    "# Data Collection"
   ]
  },
  {
   "cell_type": "markdown",
   "id": "9dad3022",
   "metadata": {},
   "source": [
    "Settings for the API and data collection. Note that you can use API key as I provide below:"
   ]
  },
  {
   "cell_type": "code",
   "execution_count": null,
   "id": "e6337630",
   "metadata": {},
   "outputs": [],
   "source": [
    "# API Key (replace with your own API key)\n",
    "api_key = \"gKViIy44kknSJmNLGi90jtekQ2zEbPVnuzJuPmVZ\"\n",
    "# Prefix for API URLs\n",
    "api_prefix = \"https://api.eia.gov/series/\"\n",
    "# The two total energy exports and two total energy imports as examples\n",
    "\n",
    "# TOTAL.PMEXBUS.A ---- Total Petroleum, Excluding Biofuels, Exports, Annual\n",
    "# TOTAL.TEEXBUS.A ---- Total Primary Energy Exports, Annual\n",
    "# TOTAL.PMIMBUS.A ---- Total Petroleum, Excluding Biofuels, Imports, Annual\n",
    "# TOTAL.TEIMBUS.A ---- Total Primary Energy Imports, Annual\n",
    "example_names = [\"TOTAL.PMEXBUS.A\", \"TOTAL.TEEXBUS.A\", \"TOTAL.PMIMBUS.A\", \"TOTAL.TEIMBUS.A\"]\n",
    "# The series name for these examples, for disambiguation purposes\n",
    "example_dictionary = {\"TOTAL.PMEXBUS.A\":\"Total Petroleum, Excluding Biofuels, Exports, Annual\",\n",
    "                    \"TOTAL.TEEXBUS.A\":\"Total Primary Energy Exports, Annual\",\n",
    "                    \"TOTAL.PMIMBUS.A\":\"Total Petroleum, Excluding Biofuels, Imports, Annual\",\n",
    "                    \"TOTAL.TEIMBUS.A\":\"Total Primary Energy Imports, Annual\"}"
   ]
  },
  {
   "cell_type": "markdown",
   "id": "d5f2e92c",
   "metadata": {},
   "source": [
    "Create directory for raw data storage, if it does not already exist:"
   ]
  },
  {
   "cell_type": "code",
   "execution_count": null,
   "id": "7581c86b",
   "metadata": {},
   "outputs": [],
   "source": [
    "dir_raw = Path(\"raw\")\n",
    "dir_raw.mkdir(parents=True, exist_ok=True)"
   ]
  },
  {
   "cell_type": "markdown",
   "id": "6c281989",
   "metadata": {},
   "source": [
    "Define a fetch function for retrieving data from the **US Energy Information Administration API**:"
   ]
  },
  {
   "cell_type": "code",
   "execution_count": null,
   "id": "7c7d3b98",
   "metadata": {},
   "outputs": [],
   "source": [
    "# The example of API call to use\n",
    "# http://api.eia.gov/series/?api_key=gKViIy44kknSJmNLGi90jtekQ2zEbPVnuzJuPmVZ&series_id=TOTAL.TEIMBUS.A\n",
    "def fetch(params):\n",
    "    # construct the url\n",
    "    url = api_prefix\n",
    "    url += \"?\" + urllib.parse.urlencode(params)\n",
    "    print(\"Fetching %s\" % url)\n",
    "    # fetch the page\n",
    "    response = requests.get(url)\n",
    "    jdata = response.text\n",
    "    # return retrieved data as json format\n",
    "    return json.loads(jdata)"
   ]
  },
  {
   "cell_type": "markdown",
   "id": "c7c3a5a4",
   "metadata": {},
   "source": [
    "This API data search's key is series ID, based on distinct ID we can retrieve total energy imports and exports data from the API."
   ]
  },
  {
   "cell_type": "code",
   "execution_count": null,
   "id": "edfba641",
   "metadata": {},
   "outputs": [],
   "source": [
    "example_metadata = {}\n",
    "example_series_name = {}\n",
    "params={}\n",
    "params[\"api_key\"] = api_key\n",
    "for example_name in example_names:\n",
    "    params[\"series_id\"] = example_name\n",
    "    example_data = fetch(params)\n",
    "    # is this the result we are looking for?\n",
    "    if example_data[\"series\"][0][\"series_id\"] == example_name and example_data[\"series\"][0][\"name\"] == example_dictionary[example_name]:\n",
    "        print(\"Found match for %s: Meaning=%s\" % \n",
    "              (example_name, example_dictionary[example_name]))\n",
    "        example_metadata[example_name] = example_data \n",
    "        example_series_name[example_name] = example_data[\"request\"][\"series_id\"]\n",
    "    \n",
    "print(\"Found keys for %d cities\" % len(example_series_name))"
   ]
  },
  {
   "cell_type": "markdown",
   "id": "73440bdf",
   "metadata": {},
   "source": [
    "Illustrate data that we collect from API as dataframe format to show the strcture of data which will be analysed soon."
   ]
  },
  {
   "cell_type": "code",
   "execution_count": null,
   "id": "2a3d47c3",
   "metadata": {},
   "outputs": [],
   "source": [
    "metadata_rows = []\n",
    "for example_name in example_names:\n",
    "    row = {\"title\": example_name, \"Frequency\": example_metadata[example_name][\"series\"][0][\"f\"]}\n",
    "    row[\"units\"] = example_metadata[example_name][\"series\"][0][\"units\"]\n",
    "    row[\"start\"] = example_metadata[example_name][\"series\"][0][\"start\"]\n",
    "    row[\"end\"] =  example_metadata[example_name][\"series\"][0][\"end\"]\n",
    "    index = 0\n",
    "    len_list = len(example_metadata[example_name][\"series\"][0][\"data\"])- 1\n",
    "    # only pick up six years' data for demonstrated purpose\n",
    "    while index <= 5:\n",
    "        row[example_metadata[example_name][\"series\"][0][\"data\"][len_list][0]] = example_metadata[example_name][\"series\"][0][\"data\"][len_list][1]\n",
    "        index += 1\n",
    "        len_list -=1\n",
    "    metadata_rows.append(row)\n",
    "pd.DataFrame(metadata_rows).set_index(\"title\")"
   ]
  },
  {
   "cell_type": "markdown",
   "id": "b35f9573",
   "metadata": {},
   "source": [
    "Now we will focus on specific energies and save their data as json files for further analysis"
   ]
  },
  {
   "cell_type": "code",
   "execution_count": null,
   "id": "fd045163",
   "metadata": {},
   "outputs": [],
   "source": [
    "def fetch_specific_energy(example_name, series_name):\n",
    "    # fetch the specific data among different types of energy\n",
    "    params[\"series_id\"] = example_name\n",
    "    specifc_data = fetch(params)\n",
    "    # write it out to our raw dataset directory\n",
    "    fname = \"%s-%s.json\" % (example_name, series_name)\n",
    "    out_path = dir_raw / fname\n",
    "    print(\"Writing data to %s\" % out_path)\n",
    "    fout = open(out_path, \"w\")\n",
    "    json.dump(specifc_data, fout, indent=4, sort_keys=True)\n",
    "    fout.close()"
   ]
  },
  {
   "cell_type": "markdown",
   "id": "95f656dd",
   "metadata": {},
   "source": [
    "There are five export types and five import types, separately extract their data from **US Energy Information Administration API**"
   ]
  },
  {
   "cell_type": "code",
   "execution_count": null,
   "id": "e2823542",
   "metadata": {},
   "outputs": [],
   "source": [
    "# five specific energy imports data will be retrieved and saved \n",
    "imports_names = [\"TOTAL.BFIMBUS.A\", \"TOTAL.CCIMBUS.A\", \"TOTAL.CLIMBUS.A\", \"TOTAL.ELIMBUS.A\", \"TOTAL.COIMBUS.A\"]\n",
    "imports_dictionary = {\"TOTAL.BFIMBUS.A\":\"Biomass Imports, Annual\",\n",
    "                    \"TOTAL.CCIMBUS.A\":\"Coal Coke Imports, Annual\",\n",
    "                    \"TOTAL.CLIMBUS.A\":\"Coal Imports, Annual\",\n",
    "                    \"TOTAL.ELIMBUS.A\":\"Electricity Imports, Annual\",\n",
    "                      \"TOTAL.COIMBUS.A\":\"Crude Oil Imports, Annual\"}\n",
    "\n",
    "# five specific energy exports data will be retrieved and saved \n",
    "exports_names = [\"TOTAL.BMEXBUS.A\", \"TOTAL.CCEXBUS.A\", \"TOTAL.CLEXBUS.A\", \"TOTAL.ELEXBUS.A\", \"TOTAL.COEXBUS.A\"]\n",
    "exports_dictionary = {\"TOTAL.BMEXBUS.A\":\"Biomass Exports, Annual\",\n",
    "                    \"TOTAL.CCEXBUS.A\":\"Coal Coke Exports, Annual\",\n",
    "                    \"TOTAL.CLEXBUS.A\":\"Coal Exports, Annual\",\n",
    "                    \"TOTAL.ELEXBUS.A\":\"Electricity Exports, Annual\",\n",
    "                      \"TOTAL.COEXBUS.A\":\"Crude Oil Exports, Annual\"}\n",
    "\n",
    "for imports_name in imports_names:\n",
    "    fetch_specific_energy(imports_name, imports_dictionary[imports_name])\n",
    "\n",
    "for exports_name in exports_names:\n",
    "    fetch_specific_energy(exports_name, exports_dictionary[exports_name])"
   ]
  },
  {
   "cell_type": "code",
   "execution_count": null,
   "id": "5fba0448",
   "metadata": {},
   "outputs": [],
   "source": []
  }
 ],
 "metadata": {
  "kernelspec": {
   "display_name": "Python 3 (ipykernel)",
   "language": "python",
   "name": "python3"
  },
  "language_info": {
   "codemirror_mode": {
    "name": "ipython",
    "version": 3
   },
   "file_extension": ".py",
   "mimetype": "text/x-python",
   "name": "python",
   "nbconvert_exporter": "python",
   "pygments_lexer": "ipython3",
   "version": "3.9.0"
  }
 },
 "nbformat": 4,
 "nbformat_minor": 5
}
