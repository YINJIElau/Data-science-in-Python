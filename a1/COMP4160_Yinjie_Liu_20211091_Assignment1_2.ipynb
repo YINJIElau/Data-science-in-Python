{
 "cells": [
  {
   "cell_type": "markdown",
   "id": "5709f1d0",
   "metadata": {},
   "source": [
    "# COMP4160_Yinjie_Liu_20211091_Assignment1_2"
   ]
  },
  {
   "cell_type": "markdown",
   "id": "e0b94ca0",
   "metadata": {},
   "source": [
    "In this assignment we will collect detailed specific energy imports and exports data from the **US Energy Information Administration API** for five different energy resources."
   ]
  },
  {
   "cell_type": "markdown",
   "id": "7689b8c3",
   "metadata": {},
   "source": [
    "This notebook covers Task 2 - **Data Preparation and Analysis**. We will use all of the JSON data collected during Task 1 to perform the analysis process."
   ]
  },
  {
   "cell_type": "code",
   "execution_count": null,
   "id": "b3c2af02",
   "metadata": {},
   "outputs": [],
   "source": [
    "import numpy as np\n",
    "import json\n",
    "from pathlib import Path\n",
    "from datetime import datetime\n",
    "import pandas as pd\n",
    "from sklearn.metrics.pairwise import euclidean_distances\n",
    "import matplotlib\n",
    "import matplotlib.pyplot as plt\n",
    "import matplotlib.dates as mdates\n",
    "import matplotlib.ticker as ticker\n",
    "from pandas.plotting import scatter_matrix\n",
    "import seaborn as sns\n",
    "%matplotlib inline"
   ]
  },
  {
   "cell_type": "markdown",
   "id": "70abaa39",
   "metadata": {},
   "source": [
    "Key settings, including our list of resources and various appearance settings for plotting later:"
   ]
  },
  {
   "cell_type": "code",
   "execution_count": null,
   "id": "707ac1ca",
   "metadata": {},
   "outputs": [],
   "source": [
    "# The city locations that we would like to study\n",
    "imports_names = [\"TOTAL.BFIMBUS.A\", \"TOTAL.CCIMBUS.A\", \"TOTAL.CLIMBUS.A\", \"TOTAL.ELIMBUS.A\", \"TOTAL.COIMBUS.A\"]\n",
    "\n",
    "exports_names = [\"TOTAL.BMEXBUS.A\", \"TOTAL.CCEXBUS.A\", \"TOTAL.CLEXBUS.A\", \"TOTAL.ELEXBUS.A\", \"TOTAL.COEXBUS.A\"]\n",
    "# Precision that we'll use for Pandas display\n",
    "pd.set_option('precision', 2)\n",
    "# Colors that we will use in various plots\n",
    "plots_colors = {\"TOTAL.BFIMBUS.A\":\"green\", \"TOTAL.CCIMBUS.A\":\"darkred\", \"TOTAL.CLIMBUS.A\":\"orange\", \"TOTAL.ELIMBUS.A\":\"navy\", \"TOTAL.COIMBUS.A\":\"red\"}\n",
    "plots_colors2 = {\"TOTAL.BMEXBUS.A\":\"green\", \"TOTAL.CCEXBUS.A\":\"darkred\", \"TOTAL.CLEXBUS.A\":\"orange\", \"TOTAL.ELEXBUS.A\":\"navy\", \"TOTAL.COEXBUS.A\":\"red\"}\n",
    "# Default font size\n",
    "fontsize = 13"
   ]
  },
  {
   "cell_type": "markdown",
   "id": "7c1cc337",
   "metadata": {},
   "source": [
    "Directories for data storage:"
   ]
  },
  {
   "cell_type": "code",
   "execution_count": null,
   "id": "70787542",
   "metadata": {},
   "outputs": [],
   "source": [
    "# directory for raw data storage\n",
    "dir_raw = Path(\"raw\")\n",
    "# directory for storing clean pre-processed data\n",
    "dir_data = Path(\"data\")\n",
    "# make sure it exists\n",
    "dir_data.mkdir(parents=True, exist_ok=True)"
   ]
  },
  {
   "cell_type": "markdown",
   "id": "87aaf9d7",
   "metadata": {},
   "source": [
    "# Data Preprocessing"
   ]
  },
  {
   "cell_type": "markdown",
   "id": "ca390629",
   "metadata": {},
   "source": [
    "Before we can analyse the data, we need to transform it into a usable format.\n",
    "\n",
    "Firstly, find all of the raw JSON files and separate them by resources:"
   ]
  },
  {
   "cell_type": "code",
   "execution_count": null,
   "id": "547a0ccd",
   "metadata": {},
   "outputs": [],
   "source": [
    "resource_files = {}\n",
    "resource_files[\"Imports\"] = []\n",
    "resource_files[\"Exports\"] = []\n",
    "for fpath in dir_raw.iterdir():\n",
    "    if fpath.suffix == \".json\":\n",
    "        # parse the filename\n",
    "        # parts = fpath.stem.split(\"-\")\n",
    "        if \"Imports\" in str(fpath):\n",
    "            resource_files[\"Imports\"].append(fpath)\n",
    "        elif \"Exports\" in str(fpath):\n",
    "            resource_files[\"Exports\"].append(fpath)\n",
    "\n",
    "print(\"Imports: Found %d raw data files\" % (len(resource_files[\"Imports\"])))\n",
    "print(\"Exports: Found %d raw data files\" % (len(resource_files[\"Exports\"])))"
   ]
  },
  {
   "cell_type": "markdown",
   "id": "9c25733c",
   "metadata": {},
   "source": [
    "## Data Parsing and Merging"
   ]
  },
  {
   "cell_type": "markdown",
   "id": "0699f0cf",
   "metadata": {},
   "source": [
    "We will define a function that will parse an individual raw JSON data file coming from the **US Energy Information Administration API** .\n",
    "\n",
    "An important aspect with this API is how we handle the relationship between index and column. The original data's index are four different resources, however, sometimes we need the column(year) to be index since the visualized graphs will be more readable by this way.\n",
    "Another important problem is that there are missing values in the dataset, we need to find a proper way to fill in there data."
   ]
  },
  {
   "cell_type": "code",
   "execution_count": null,
   "id": "c58b4eb0",
   "metadata": {},
   "outputs": [],
   "source": [
    "def parse_raw_data(Theme, fpath):\n",
    "    fin = open(fpath, \"r\")\n",
    "    jdata = fin.read()\n",
    "    data = json.loads(jdata)\n",
    "    # handle each observation\n",
    "    parts = fpath.stem.split(\"-\")\n",
    "    rows = []\n",
    "    \n",
    "    row = {\"Title\": parts[0]}\n",
    "    row[\"Theme\"] = Theme\n",
    "    # add temperature data, in celsius - both raw and 'feels like' with wind chill\n",
    "    row[\"Frequency\"] = data[\"series\"][0][\"f\"]\n",
    "    row[\"units\"] = data[\"series\"][0][\"units\"]\n",
    "    # add precpipation level, in mm for last hour\n",
    "    row[\"start\"] = data[\"series\"][0][\"start\"]\n",
    "    # add wind speed\n",
    "    row[\"end\"] = data[\"series\"][0][\"end\"]\n",
    "    index = 0\n",
    "    len_list = len(data[\"series\"][0][\"data\"])- 1\n",
    "    # only pick up six years' data for demonstrated purpose\n",
    "    for i in range(len_list,-1,-1):\n",
    "        row[data[\"series\"][0][\"data\"][i][0]] = data[\"series\"][0][\"data\"][i][1]\n",
    "    rows.append(row)\n",
    "    fin.close()\n",
    "    # return back the DataFrame\n",
    "    return pd.DataFrame(rows)"
   ]
  },
  {
   "cell_type": "markdown",
   "id": "0e915553",
   "metadata": {},
   "source": [
    "Define a function that will parse and merge a collection of raw data files:"
   ]
  },
  {
   "cell_type": "code",
   "execution_count": null,
   "id": "b65101ef",
   "metadata": {},
   "outputs": [],
   "source": [
    "def parse_merge_raw_data(Theme, fpaths):\n",
    "    df_files = []\n",
    "    # process each file for Imports and Exports theme\n",
    "    print(\"Reading and parsing %d JSON data files ...\" % len(fpaths))\n",
    "    for fpath in fpaths:\n",
    "        # produce a DataFrame from this file\n",
    "        df_file = parse_raw_data(Theme, fpath)\n",
    "        df_files.append(df_file)\n",
    "    # concatenate all the DataFrames together into a single frame\n",
    "    df_resources = pd.concat(df_files)\n",
    "    # now set the index column to be the Date, which is now unique\n",
    "    df_resources.set_index(\"Title\", inplace=True)\n",
    "    # we will also sort the frame by its index\n",
    "    return df_resources.sort_index()    "
   ]
  },
  {
   "cell_type": "markdown",
   "id": "7efb95b7",
   "metadata": {},
   "source": [
    "Parse and merge the raw data files for each theme, producing a single merged Pandas Data Frames for each theme which we can analyse later on:"
   ]
  },
  {
   "cell_type": "code",
   "execution_count": null,
   "id": "e944f5ad",
   "metadata": {},
   "outputs": [],
   "source": [
    "df_resources = {}\n",
    "print(\"-- Imports\")\n",
    "df_resource = parse_merge_raw_data(\"Imports\", resource_files[\"Imports\"])\n",
    "df_resources[\"Imports\"] = df_resource\n",
    "\n",
    "print(\"-- Exports\")\n",
    "df_resource = parse_merge_raw_data(\"Exports\", resource_files[\"Exports\"])\n",
    "df_resources[\"Exports\"] = df_resource"
   ]
  },
  {
   "cell_type": "code",
   "execution_count": null,
   "id": "5d014be9",
   "metadata": {},
   "outputs": [],
   "source": [
    "df_resources[\"Imports\"].head(5)"
   ]
  },
  {
   "cell_type": "markdown",
   "id": "59acd3f4",
   "metadata": {},
   "source": [
    "Check the number of rows and resourece names in the DataFrames:"
   ]
  },
  {
   "cell_type": "code",
   "execution_count": null,
   "id": "7811741e",
   "metadata": {},
   "outputs": [],
   "source": [
    "Theme_names = [\"Imports\", \"Exports\"]\n",
    "\n",
    "# This function will show which resources' information we have right now.\n",
    "def summarize_dates():\n",
    "    rows = []\n",
    "    for Theme_name in Theme_names:\n",
    "        row = {\"Theme\": Theme_name}\n",
    "        row[\"Rows\"] = len(df_resources[Theme_name])\n",
    "        count = 1\n",
    "        for resoure_name in list(df_resources[Theme_name].index):\n",
    "            key_name = \"Example\" + str(count)\n",
    "            row[key_name] = resoure_name\n",
    "            count+=1\n",
    "        rows.append(row)\n",
    "    return pd.DataFrame(rows).set_index(\"Theme\")\n",
    "\n",
    "# display the ranges\n",
    "df_date_summary = summarize_dates()\n",
    "df_date_summary"
   ]
  },
  {
   "cell_type": "markdown",
   "id": "261c9e76",
   "metadata": {},
   "source": [
    "Find the latest start year and the most earlier year"
   ]
  },
  {
   "cell_type": "code",
   "execution_count": null,
   "id": "b63f98b8",
   "metadata": {},
   "outputs": [],
   "source": [
    "# find the latest start date\n",
    "date_start = df_resources[\"Imports\"][\"start\"].max()\n",
    "# find the earlier end date\n",
    "date_end = df_resources[\"Exports\"][\"end\"].max()\n",
    "date_start, date_end"
   ]
  },
  {
   "cell_type": "markdown",
   "id": "39816aac",
   "metadata": {},
   "source": [
    "Find out how many missing values there are bwtween two themes"
   ]
  },
  {
   "cell_type": "code",
   "execution_count": null,
   "id": "e5ac3190",
   "metadata": {},
   "outputs": [],
   "source": [
    "for Theme_name in Theme_names:\n",
    "    print(\"-- %s\" % Theme_name)\n",
    "    # replace the NA vlaue with np.nan\n",
    "    df_resources[Theme_name].replace(\"NA\", np.nan, inplace = True)\n",
    "    missing_counts = df_resources[Theme_name].isnull().sum()\n",
    "    # which coludmns have missing values?\n",
    "    missing_counts = missing_counts[missing_counts>0]\n",
    "    \n",
    "    if len(missing_counts) == 0:\n",
    "        print(\"No missing values found\")\n",
    "    else:\n",
    "        print(\"There are total %d missing values found in the data frame\" % len(missing_counts))\n",
    "        "
   ]
  },
  {
   "cell_type": "code",
   "execution_count": null,
   "id": "fb85faaf",
   "metadata": {},
   "outputs": [],
   "source": [
    "# fill in the data with 0 which is np.nan\n",
    "for Theme_name in Theme_names:\n",
    "    df_resources[Theme_name] = df_resources[Theme_name].fillna(0)"
   ]
  },
  {
   "cell_type": "code",
   "execution_count": null,
   "id": "120ed48b",
   "metadata": {},
   "outputs": [],
   "source": [
    "df_resources[\"Exports\"]"
   ]
  },
  {
   "cell_type": "code",
   "execution_count": null,
   "id": "6eed57f8",
   "metadata": {},
   "outputs": [],
   "source": [
    "df_resources[\"Imports\"]"
   ]
  },
  {
   "cell_type": "markdown",
   "id": "3222eda2",
   "metadata": {},
   "source": [
    "Reversing the datagrames so that years can be index."
   ]
  },
  {
   "cell_type": "code",
   "execution_count": null,
   "id": "a51acaca",
   "metadata": {},
   "outputs": [],
   "source": [
    "# delete some useless column and reverse this dataframe and make years be index.\n",
    "imports_dataframe = df_resources[\"Imports\"].drop([\"Theme\", \"Frequency\",\"units\", \"start\", \"end\"], axis=1)\n",
    "data_list = imports_dataframe.values.tolist()\n",
    "\n",
    "rows = []\n",
    "count = 0\n",
    "# the latest year and most earlier year\n",
    "for i in range(1949, 2021):\n",
    "    row = {\"Year\": i}\n",
    "\n",
    "    row[\"TOTAL.BFIMBUS.A\"] = data_list[0][count]\n",
    "    row[\"TOTAL.CCIMBUS.A\"] = data_list[1][count]\n",
    "    row[\"TOTAL.CLIMBUS.A\"] = data_list[2][count]\n",
    "    row[\"TOTAL.COIMBUS.A\"] = data_list[3][count]\n",
    "    row[\"TOTAL.ELIMBUS.A\"] = data_list[4][count]\n",
    "    row[\"Theme\"] = \"Imports\"\n",
    "    row[\"units\"] = \"Trillion Btu\"\n",
    "    rows.append(row)\n",
    "    count+=1\n",
    "new_imports_dataframe = pd.DataFrame(rows)\n",
    "# set the year as index\n",
    "new_imports_dataframe.set_index(\"Year\", inplace=True)\n",
    "\n",
    "df_resources[\"Imports\"] = new_imports_dataframe.sort_index()    "
   ]
  },
  {
   "cell_type": "code",
   "execution_count": null,
   "id": "e05a0618",
   "metadata": {},
   "outputs": [],
   "source": [
    "# delete some useless column and reverse this dataframe and make years be index.\n",
    "exports_dataframe = df_resources[\"Exports\"].drop([\"Theme\", \"Frequency\",\"units\", \"start\", \"end\"], axis=1)\n",
    "data_list = exports_dataframe.values.tolist()\n",
    "\n",
    "rows = []\n",
    "count = 0\n",
    "# the latest year and most earlier year\n",
    "for i in range(1949, 2021):\n",
    "    row = {\"Year\": i}\n",
    "    \n",
    "    row[\"TOTAL.BMEXBUS.A\"] = data_list[0][count]\n",
    "    row[\"TOTAL.CCEXBUS.A\"] = data_list[1][count]\n",
    "    row[\"TOTAL.CLEXBUS.A\"] = data_list[2][count]\n",
    "    row[\"TOTAL.COEXBUS.A\"] = data_list[3][count]\n",
    "    row[\"TOTAL.ELEXBUS.A\"] = data_list[4][count]\n",
    "    row[\"Theme\"] = \"Exports\"\n",
    "    row[\"units\"] = \"Trillion Btu\"\n",
    "    rows.append(row)\n",
    "    count+=1\n",
    "new_exports_dataframe = pd.DataFrame(rows)\n",
    "# set the year as index\n",
    "new_exports_dataframe.set_index(\"Year\", inplace=True)\n",
    "\n",
    "df_resources[\"Exports\"] = new_exports_dataframe.sort_index()    "
   ]
  },
  {
   "cell_type": "markdown",
   "id": "f497df5d",
   "metadata": {},
   "source": [
    "# Data Saving"
   ]
  },
  {
   "cell_type": "markdown",
   "id": "785e1e47",
   "metadata": {},
   "source": [
    "Now write out all of the merged themes DataFrames in JSON format, one file per theme. These will represent the 'clean' data that we will use next for our actual data analysis:"
   ]
  },
  {
   "cell_type": "code",
   "execution_count": null,
   "id": "3d3e23b4",
   "metadata": {},
   "outputs": [],
   "source": [
    "\n",
    "for Theme_name in Theme_names:\n",
    "    fname = \"%s.json\" % Theme_name\n",
    "    out_path = dir_data / fname\n",
    "    print(\"Writing %s\" % out_path)\n",
    "    df_resources[Theme_name].to_json(out_path, orient=\"index\", indent=4)"
   ]
  },
  {
   "cell_type": "code",
   "execution_count": null,
   "id": "3e126b63",
   "metadata": {},
   "outputs": [],
   "source": [
    "df_resources[\"Imports\"]"
   ]
  },
  {
   "cell_type": "code",
   "execution_count": null,
   "id": "119b8dad",
   "metadata": {},
   "outputs": [],
   "source": [
    "df_resources[\"Exports\"]"
   ]
  },
  {
   "cell_type": "markdown",
   "id": "a262bc7d",
   "metadata": {},
   "source": [
    "# Data Analysis"
   ]
  },
  {
   "cell_type": "markdown",
   "id": "9559e793",
   "metadata": {},
   "source": [
    "## Data Loading"
   ]
  },
  {
   "cell_type": "markdown",
   "id": "1ee91fe7",
   "metadata": {},
   "source": [
    "We will reload the resources data frames that we stored previously."
   ]
  },
  {
   "cell_type": "code",
   "execution_count": null,
   "id": "9eb10aad",
   "metadata": {},
   "outputs": [],
   "source": [
    "# it will show how many rows we have between two themes and the index year information\n",
    "df_resources = {}\n",
    "for Theme_name in Theme_names:\n",
    "    fname = \"%s.json\" % Theme_name\n",
    "    in_path = dir_data / fname\n",
    "    df_resources[Theme_name] = pd.read_json(in_path, orient=\"index\")\n",
    "    print(\"%s: %d rows of data - [%s to %s]\" % \n",
    "          (Theme_name, len(df_resources[Theme_name]), \n",
    "           df_resources[Theme_name].index.min(), df_resources[Theme_name].index.max() ))"
   ]
  },
  {
   "cell_type": "code",
   "execution_count": null,
   "id": "bb891e96",
   "metadata": {},
   "outputs": [],
   "source": [
    "df_resources[\"Imports\"].head(5)"
   ]
  },
  {
   "cell_type": "markdown",
   "id": "4b8b94de",
   "metadata": {},
   "source": [
    "## Data Analysis"
   ]
  },
  {
   "cell_type": "markdown",
   "id": "10b8064b",
   "metadata": {},
   "source": [
    "we look at resources data. We could just look at the raw statistics for the different themes to calculate their maximum, minimum and mea. "
   ]
  },
  {
   "cell_type": "code",
   "execution_count": null,
   "id": "7b50bbd2",
   "metadata": {},
   "outputs": [],
   "source": [
    "def imports_compute_stats():\n",
    "    row = {}\n",
    "    imports_rows = []\n",
    "    for imports_name in imports_names:\n",
    "        row = {\"Title\": imports_name}\n",
    "        row[\"Min\"] = df_resources[\"Imports\"][imports_name].min()\n",
    "        row[\"Max\"] = df_resources[\"Imports\"][imports_name].max()\n",
    "        row[\"Mean\"] = df_resources[\"Imports\"][imports_name].mean()\n",
    "        row[\"Median\"] = df_resources[\"Imports\"][imports_name].median()\n",
    "        imports_rows.append(row)\n",
    "    return pd.DataFrame(imports_rows).set_index(\"Title\")"
   ]
  },
  {
   "cell_type": "code",
   "execution_count": null,
   "id": "9f3c971d",
   "metadata": {},
   "outputs": [],
   "source": [
    "def exports_compute_stats():\n",
    "    row = {}\n",
    "    exports_rows = []\n",
    "    for exports_name in exports_names:\n",
    "        row = {\"Title\": exports_name}\n",
    "        row[\"Min\"] = df_resources[\"Exports\"][exports_name].min()\n",
    "        row[\"Max\"] = df_resources[\"Exports\"][exports_name].max()\n",
    "        row[\"Mean\"] = df_resources[\"Exports\"][exports_name].mean()\n",
    "        row[\"Median\"] = df_resources[\"Exports\"][exports_name].median()\n",
    "        exports_rows.append(row)\n",
    "    return pd.DataFrame(exports_rows).set_index(\"Title\")"
   ]
  },
  {
   "cell_type": "code",
   "execution_count": null,
   "id": "dc2b668c",
   "metadata": {},
   "outputs": [],
   "source": [
    "imports_compute_stats()"
   ]
  },
  {
   "cell_type": "code",
   "execution_count": null,
   "id": "2eb2210f",
   "metadata": {},
   "outputs": [],
   "source": [
    "exports_compute_stats()"
   ]
  },
  {
   "cell_type": "markdown",
   "id": "7e1dc779",
   "metadata": {},
   "source": [
    "We could look at plots for each of the different themes separately based on different resources:"
   ]
  },
  {
   "cell_type": "code",
   "execution_count": null,
   "id": "24ff1702",
   "metadata": {},
   "outputs": [],
   "source": [
    "fig = plt.figure(figsize=(12,7))\n",
    "for i, resource_name in enumerate(imports_names):\n",
    "    if resource_name == \"TOTAL.COIMBUS.A\":\n",
    "        pass\n",
    "    else:\n",
    "        axc = fig.add_subplot(2, 2, i+1)\n",
    "        ax = df_resources[\"Imports\"][resource_name].plot(ax=axc, legend=False, lw=2, color=plots_colors[resource_name])\n",
    "        ax.set_title(resource_name)\n",
    "        ax.set_ylabel(\"Trillion Btu\")\n",
    "        # note that we will use consistent Y-axis limits based on the ranges we computed above\n",
    "        ax.set_ylim(df_resources[\"Imports\"][resource_name].min()-10 , df_resources[\"Imports\"][resource_name].max() + 10)\n",
    "        ax.set_xlim(df_resources[\"Imports\"].index.min(), df_resources[\"Imports\"].index.max())\n",
    "# fix the spacing between plots\n",
    "fig.tight_layout()"
   ]
  },
  {
   "cell_type": "markdown",
   "id": "dcd4330f",
   "metadata": {},
   "source": [
    "Separate the TOTAL.COIMBUS.A data since its data is too bigger than other resources which will lead to illustration issues."
   ]
  },
  {
   "cell_type": "code",
   "execution_count": null,
   "id": "8a993222",
   "metadata": {},
   "outputs": [],
   "source": [
    "ax = df_resources[\"Imports\"][\"TOTAL.COIMBUS.A\"].plot(legend=False, lw=2, color=plots_colors[\"TOTAL.COIMBUS.A\"])\n",
    "ax.set_title(\"TOTAL.COIMBUS.A\")\n",
    "ax.set_ylabel(\"Trillion Btu\")\n",
    "# note that we will use consistent Y-axis limits based on the ranges we computed above\n",
    "ax.set_ylim(df_resources[\"Imports\"][\"TOTAL.COIMBUS.A\"].min()-1000 , df_resources[\"Imports\"][\"TOTAL.COIMBUS.A\"].max() + 1000)\n",
    "ax.set_xlim(df_resources[\"Imports\"].index.min(), df_resources[\"Imports\"].index.max())"
   ]
  },
  {
   "cell_type": "markdown",
   "id": "a81fd217",
   "metadata": {},
   "source": [
    "From the plots above, we can see the imported resources trends. In summary, only ELIMBUS is stable and it had been increasing from 1949 till 2020. As for the other resources, they all have experienced up and down to a great extent."
   ]
  },
  {
   "cell_type": "code",
   "execution_count": null,
   "id": "1f55e5ce",
   "metadata": {},
   "outputs": [],
   "source": [
    "plots_colors2 = {\"TOTAL.BMEXBUS.A\":\"green\", \"TOTAL.CCEXBUS.A\":\"darkred\", \"TOTAL.CLEXBUS.A\":\"orange\", \"TOTAL.ELEXBUS.A\":\"navy\", \"TOTAL.COEXBUS.A\":\"red\"}"
   ]
  },
  {
   "cell_type": "markdown",
   "id": "d729d3f6",
   "metadata": {},
   "source": [
    "Below code is for export graphs, separate the TOTAL.COEXBUS.A data since its data is too bigger than other resources which will lead to illustration issues."
   ]
  },
  {
   "cell_type": "code",
   "execution_count": null,
   "id": "aeb7c746",
   "metadata": {},
   "outputs": [],
   "source": [
    "fig = plt.figure(figsize=(12,7))\n",
    "for i, resource_name in enumerate(exports_names):\n",
    "    if resource_name == \"TOTAL.COEXBUS.A\":\n",
    "        pass\n",
    "    else:\n",
    "        axc = fig.add_subplot(2, 2, i+1)\n",
    "        ax = df_resources[\"Exports\"][resource_name].plot(ax=axc, legend=False, lw=2, color=plots_colors2[resource_name])\n",
    "        ax.set_title(resource_name)\n",
    "        ax.set_ylabel(\"Trillion Btu\")\n",
    "        # note that we will use consistent Y-axis limits based on the ranges we computed above\n",
    "        ax.set_ylim(df_resources[\"Exports\"][resource_name].min()-10 , df_resources[\"Exports\"][resource_name].max() + 100)\n",
    "        ax.set_xlim(df_resources[\"Exports\"].index.min(), df_resources[\"Exports\"].index.max())\n",
    "# fix the spacing between plots\n",
    "fig.tight_layout()"
   ]
  },
  {
   "cell_type": "code",
   "execution_count": null,
   "id": "ece08ccb",
   "metadata": {},
   "outputs": [],
   "source": [
    "ax = df_resources[\"Exports\"][\"TOTAL.COEXBUS.A\"].plot(legend=False, lw=2, color=plots_colors2[\"TOTAL.COEXBUS.A\"])\n",
    "ax.set_title(\"TOTAL.COEXBUS.A\")\n",
    "ax.set_ylabel(\"Trillion Btu\")\n",
    "# note that we will use consistent Y-axis limits based on the ranges we computed above\n",
    "ax.set_ylim(df_resources[\"Exports\"][\"TOTAL.COEXBUS.A\"].min()-1000 , df_resources[\"Exports\"][\"TOTAL.COEXBUS.A\"].max() + 1000)\n",
    "ax.set_xlim(df_resources[\"Exports\"].index.min(), df_resources[\"Exports\"].index.max())"
   ]
  },
  {
   "cell_type": "markdown",
   "id": "e0720655",
   "metadata": {},
   "source": [
    "From the plots above, we can see the exported resources trends. In summary, only BMEXBUS is qurite stable and it had kept around 0. As for the other resources, CLEXBUS have experienced up and down to a great extent. And COEXBUS had dramatically incresed from 0 to more than 6000."
   ]
  },
  {
   "cell_type": "markdown",
   "id": "fec14f47",
   "metadata": {},
   "source": [
    "There are several bar graphs to show resoures tendency from 1949 to 2020 amongest two themes."
   ]
  },
  {
   "cell_type": "code",
   "execution_count": null,
   "id": "130b8354",
   "metadata": {},
   "outputs": [],
   "source": [
    "fig = plt.figure(figsize=(20,25))\n",
    "for i, resource_name in enumerate(exports_names):\n",
    "    axc = fig.add_subplot(5, 1, i+1)\n",
    "    ax = df_resources[\"Exports\"][resource_name].plot(ax=axc, kind=\"bar\", legend=False, lw=2, color=plots_colors2[resource_name])\n",
    "    ax.set_title(resource_name)\n",
    "    ax.set_ylabel(\"Trillion Btu\")\n",
    "    ax.yaxis.grid(True);\n",
    "fig"
   ]
  },
  {
   "cell_type": "markdown",
   "id": "fb8d5116",
   "metadata": {},
   "source": [
    "What we can see from above bar grahps is that CCEXBUS and CLEXBUS are always most popular resources to export from American. And BMEXBUS is getting popular recently."
   ]
  },
  {
   "cell_type": "code",
   "execution_count": null,
   "id": "a017b0fa",
   "metadata": {},
   "outputs": [],
   "source": [
    "fig = plt.figure(figsize=(20,25))\n",
    "for i, resource_name in enumerate(imports_names):\n",
    "    axc = fig.add_subplot(5, 1, i+1)\n",
    "    ax = df_resources[\"Imports\"][resource_name].plot(ax=axc, kind=\"bar\", legend=False, lw=2, color=plots_colors[resource_name])\n",
    "    ax.set_title(resource_name)\n",
    "    ax.set_ylabel(\"Trillion Btu\")\n",
    "    ax.yaxis.grid(True);\n",
    "    \n",
    "# fix the spacing between plots\n",
    "fig.tight_layout()"
   ]
  },
  {
   "cell_type": "markdown",
   "id": "595f1799",
   "metadata": {},
   "source": [
    "What we can see from above bar grahps is that ELIMBUS and COIMBUS are always most popular resources to import to American. And BFIMBUS is getting popular recently."
   ]
  },
  {
   "cell_type": "markdown",
   "id": "ffd3e8fb",
   "metadata": {},
   "source": [
    "At the same time, there is another way to draw linear graphs to show the tendency about different resources.\n",
    "\n",
    "This method doesn't have to separate the TOTAL.COIMBUS.A data from others."
   ]
  },
  {
   "cell_type": "code",
   "execution_count": null,
   "id": "c7a741a8",
   "metadata": {},
   "outputs": [],
   "source": [
    "ax = df_resources[\"Imports\"].plot(kind='line', subplots=True, layout=(3,3), figsize=(15,10))"
   ]
  },
  {
   "cell_type": "code",
   "execution_count": null,
   "id": "08d376f3",
   "metadata": {},
   "outputs": [],
   "source": [
    "ax = df_resources[\"Exports\"].plot(kind='line', subplots=True, layout=(3,3), figsize=(15,10))"
   ]
  },
  {
   "cell_type": "markdown",
   "id": "1d180534",
   "metadata": {},
   "source": [
    "And then we pick up the minimal and maximal data from different resources and combine them into a new Dataframe.\n",
    "\n",
    "But we separate the COIMBUS's data as a result of same result as above linear graphs."
   ]
  },
  {
   "cell_type": "code",
   "execution_count": null,
   "id": "cad3494f",
   "metadata": {},
   "outputs": [],
   "source": [
    "df_resource_data = {}\n",
    "min_temps = []\n",
    "max_temps = []\n",
    "min_COIMBUS= []\n",
    "max_COIMBUS = []\n",
    "for imports_name in imports_names:\n",
    "    \n",
    "    # add min and max data into list group by resource names\n",
    "    min_temps.append(df_resources[\"Imports\"][imports_name].min())\n",
    "    max_temps.append(df_resources[\"Imports\"][imports_name].max())\n",
    "    # combine the min and max values into a new DataFrame\n",
    "    \n",
    "min_COIMBUS.append(min_temps.pop())\n",
    "max_COIMBUS.append(max_temps.pop())\n",
    "df_resource_data[\"Imports\"] = pd.DataFrame({\"Min\": min_temps, \"Max\": max_temps})\n",
    "df_resource_data[\"Imports\"].index = imports_names[0:4]\n",
    "df_COIMBUS_data = pd.DataFrame({\"Min\": min_COIMBUS, \"Max\": max_COIMBUS})\n",
    "df_COIMBUS_data.index = imports_names[4:5]"
   ]
  },
  {
   "cell_type": "code",
   "execution_count": null,
   "id": "271a2bc1",
   "metadata": {},
   "outputs": [],
   "source": [
    "df_resource_data[\"Imports\"]"
   ]
  },
  {
   "cell_type": "code",
   "execution_count": null,
   "id": "e01e5696",
   "metadata": {},
   "outputs": [],
   "source": [
    "df_COIMBUS_data"
   ]
  },
  {
   "cell_type": "markdown",
   "id": "fc1f6c4e",
   "metadata": {},
   "source": [
    "Then we can plot these individually, with comparative bar plots for each resources showing the minimum and maximum data:"
   ]
  },
  {
   "cell_type": "code",
   "execution_count": null,
   "id": "1c0bb530",
   "metadata": {},
   "outputs": [],
   "source": [
    "fig = plt.figure(figsize=(12,8))\n",
    "axc = fig.add_subplot(1,2,1)\n",
    "ax = df_resource_data[\"Imports\"].plot.bar(ax=axc, y=['Min', 'Max'], \n",
    "                                        color={ \"Min\": \"royalblue\", \"Max\": \"firebrick\"}, fontsize=fontsize, zorder=3)\n",
    "ax.set_title(\"The Max and Mini data based on resoureces:\")\n",
    "ax.set_ylabel(\"Trillion Btu\")\n",
    "# show the exact number on the each bar\n",
    "for a,b in zip(np.arange(4),df_resource_data[\"Imports\"][\"Min\"]):\n",
    "    ax.text(a-0.13,b+0.2,b,ha='center',va='bottom',fontsize=10)\n",
    "\n",
    "for a,b in zip(np.arange(4),df_resource_data[\"Imports\"][\"Max\"]):\n",
    "    ax.text(a+0.13,b+0.2,b,ha='center',va='bottom',fontsize=10)\n",
    "\n",
    "# Configure grid lines\n",
    "ax.yaxis.grid(True);\n",
    "\n",
    "axc = fig.add_subplot(1,2,2)\n",
    "ax = df_COIMBUS_data.plot.bar(ax=axc, y=['Min', 'Max'], \n",
    "                                        color={ \"Min\": \"royalblue\", \"Max\": \"firebrick\"}, fontsize=fontsize, zorder=3)\n",
    "\n",
    "ax.set_title(\"The COIMBUS's Max and Mini data\")\n",
    "ax.set_ylabel(\"Trillion Btu\")\n",
    "\n",
    "# show the exact number on the each bar\n",
    "for a,b in zip(np.arange(1),df_COIMBUS_data[\"Max\"]):\n",
    "    ax.text(a+0.13,b+0.2,b,ha='center',va='bottom',fontsize=10)\n",
    "for a,b in zip(np.arange(1),df_COIMBUS_data[\"Min\"]):\n",
    "    ax.text(a-0.13,b+0.2,b,ha='center',va='bottom',fontsize=10)\n",
    "\n",
    "# Configure grid lines\n",
    "ax.yaxis.grid(True);\n",
    "\n",
    "fig.tight_layout()"
   ]
  },
  {
   "cell_type": "markdown",
   "id": "0c1f0373",
   "metadata": {},
   "source": [
    "And then we pick up the minimal and maximal data from different resources and combine them into a new Dataframe.\n",
    "\n",
    "But we separate the COEXBUS's data and CLEXBUS's data as a result of same result as above linear graphs."
   ]
  },
  {
   "cell_type": "code",
   "execution_count": null,
   "id": "efa9a6ca",
   "metadata": {},
   "outputs": [],
   "source": [
    "df_resource_data = {}\n",
    "min_temps = []\n",
    "max_temps = []\n",
    "min_COEXBUS_CLEXBUS= []\n",
    "max_COEXBUS_CLEXBUS = []\n",
    "for exports_name in exports_names:\n",
    "    \n",
    "    # add min and max data into list group by resource names\n",
    "    min_temps.append(df_resources[\"Exports\"][exports_name].min())\n",
    "    max_temps.append(df_resources[\"Exports\"][exports_name].max())\n",
    "    # combine the min and max values into a new DataFrame\n",
    "    \n",
    "min_COEXBUS_CLEXBUS.append(min_temps.pop(2))\n",
    "min_COEXBUS_CLEXBUS.append(min_temps.pop(3))\n",
    "\n",
    "max_COEXBUS_CLEXBUS.append(max_temps.pop(2))\n",
    "max_COEXBUS_CLEXBUS.append(max_temps.pop(3))\n",
    "df_resource_data[\"Exports\"] = pd.DataFrame({\"Min\": min_temps[0:3], \"Max\": max_temps[0:3]})\n",
    "df_resource_data[\"Exports\"].index = exports_names[0:3]\n",
    "df_COEXBUS_CLEXBUS_temps = pd.DataFrame({\"Min\": min_COEXBUS_CLEXBUS, \"Max\": max_COEXBUS_CLEXBUS})\n",
    "df_COEXBUS_CLEXBUS_temps.index = exports_names[3:5]"
   ]
  },
  {
   "cell_type": "code",
   "execution_count": null,
   "id": "b8bfce8d",
   "metadata": {},
   "outputs": [],
   "source": [
    "df_resource_data[\"Exports\"]"
   ]
  },
  {
   "cell_type": "code",
   "execution_count": null,
   "id": "31012404",
   "metadata": {},
   "outputs": [],
   "source": [
    "df_COEXBUS_CLEXBUS_temps"
   ]
  },
  {
   "cell_type": "code",
   "execution_count": null,
   "id": "bdcb7472",
   "metadata": {},
   "outputs": [],
   "source": [
    "fig = plt.figure(figsize=(12,8))\n",
    "axc = fig.add_subplot(1,2,1)\n",
    "ax = df_resource_data[\"Exports\"].plot.bar(ax=axc, y=['Min', 'Max'], \n",
    "                                        color={ \"Min\": \"royalblue\", \"Max\": \"firebrick\"}, fontsize=fontsize, zorder=3)\n",
    "ax.set_title(\"The Max and Mini data based on resoureces:\")\n",
    "ax.set_ylabel(\"Trillion Btu\")\n",
    "# show the exact number on the each bar\n",
    "for a,b in zip(np.arange(4),df_resource_data[\"Exports\"][\"Min\"]):\n",
    "    ax.text(a-0.13,b+0.2,b,ha='center',va='bottom',fontsize=10)\n",
    "\n",
    "for a,b in zip(np.arange(4),df_resource_data[\"Exports\"][\"Max\"]):\n",
    "    ax.text(a+0.13,b+0.2,b,ha='center',va='bottom',fontsize=10)\n",
    "\n",
    "# Configure grid lines\n",
    "ax.yaxis.grid(True);\n",
    "\n",
    "axc = fig.add_subplot(1,2,2)\n",
    "ax = df_COEXBUS_CLEXBUS_temps.plot.bar(ax=axc, y=['Min', 'Max'], \n",
    "                                        color={ \"Min\": \"royalblue\", \"Max\": \"firebrick\"}, fontsize=fontsize, zorder=3)\n",
    "\n",
    "ax.set_title(\"The COIMBUS's Max and Mini data\")\n",
    "ax.set_ylabel(\"Trillion Btu\")\n",
    "\n",
    "# show the exact number on the each bar\n",
    "for a,b in zip(np.arange(2),df_COEXBUS_CLEXBUS_temps[\"Max\"]):\n",
    "    ax.text(a+0.13,b+0.2,b,ha='center',va='bottom',fontsize=10)\n",
    "for a,b in zip(np.arange(2),df_COEXBUS_CLEXBUS_temps[\"Min\"]):\n",
    "    ax.text(a-0.13,b+0.2,b,ha='center',va='bottom',fontsize=10)\n",
    "\n",
    "# Configure grid lines\n",
    "ax.yaxis.grid(True);\n",
    "\n",
    "fig.tight_layout()"
   ]
  },
  {
   "cell_type": "markdown",
   "id": "f5aaa0e1",
   "metadata": {},
   "source": [
    "As we can see from above graphs that COEXBUS had most increase during 70 years and BMEXBUS almost didn't changed at all."
   ]
  },
  {
   "cell_type": "markdown",
   "id": "b655d459",
   "metadata": {},
   "source": [
    "Then we can draw the lines in a single graph about tendency of import based on resources. "
   ]
  },
  {
   "cell_type": "code",
   "execution_count": null,
   "id": "109edb7b",
   "metadata": {},
   "outputs": [],
   "source": [
    "ax = df_resources[\"Imports\"].drop([\"TOTAL.COIMBUS.A\"], axis=1).plot(figsize=(14,5.5), color=plots_colors, fontsize=fontsize, zorder=3)\n",
    "ax.set_title(\"Import data information about four resources\", fontsize=fontsize)\n",
    "ax.set_xlabel(\"Year\", fontsize=fontsize)\n",
    "ax.set_ylabel(\"Trillion Btu\", fontsize=fontsize)\n",
    "# adjust the axis limits\n",
    "ax.set_xlim(df_resources[\"Imports\"].index.min(), df_resources[\"Imports\"].index.max())\n",
    "# move the legend outside the plot\n",
    "ax.legend(bbox_to_anchor=(1.18, 1), fontsize=fontsize)\n",
    "# add an x grid\n",
    "ax.xaxis.grid(True);"
   ]
  },
  {
   "cell_type": "code",
   "execution_count": null,
   "id": "b071b184",
   "metadata": {},
   "outputs": [],
   "source": [
    "ax = df_resources[\"Imports\"][\"TOTAL.COIMBUS.A\"].plot(figsize=(14,5.5), color=plots_colors, fontsize=fontsize, zorder=3)\n",
    "ax.set_title(\"Temperature Over Time\", fontsize=fontsize)\n",
    "ax.set_xlabel(\"Date\", fontsize=fontsize)\n",
    "ax.set_ylabel(\"Temperature (C)\", fontsize=fontsize)\n",
    "# adjust the axis limits\n",
    "# ax.set_ylim(0 , df_cities[\"Imports\"][\"TOTAL.COIMBUS.A\"].max() + 10)\n",
    "ax.set_xlim(df_resources[\"Imports\"].index.min(), df_resources[\"Imports\"].index.max())\n",
    "# change the format of the dates on the x-axis\n",
    "# ax.xaxis.set_major_formatter(mdates.DateFormatter('%d/%m'))    \n",
    "# move the legend outside the plot\n",
    "ax.legend(bbox_to_anchor=(1.18, 1), fontsize=fontsize)\n",
    "# add an x grid\n",
    "ax.xaxis.grid(True);"
   ]
  },
  {
   "cell_type": "code",
   "execution_count": null,
   "id": "016b383e",
   "metadata": {},
   "outputs": [],
   "source": [
    "ax = df_resources[\"Exports\"].drop([\"TOTAL.COEXBUS.A\",\"TOTAL.CLEXBUS.A\"], axis=1).plot(figsize=(14,5.5), color=plots_colors2, fontsize=fontsize, zorder=3)\n",
    "ax.set_title(\"Export data information about four resources\", fontsize=fontsize)\n",
    "ax.set_xlabel(\"Year\", fontsize=fontsize)\n",
    "ax.set_ylabel(\"Trillion Btu\", fontsize=fontsize)\n",
    "# adjust the axis limits\n",
    "ax.set_xlim(df_resources[\"Exports\"].index.min(), df_resources[\"Exports\"].index.max())\n",
    "# move the legend outside the plot\n",
    "ax.legend(bbox_to_anchor=(1.18, 1), fontsize=fontsize)\n",
    "# add an x grid\n",
    "ax.xaxis.grid(True);"
   ]
  },
  {
   "cell_type": "code",
   "execution_count": null,
   "id": "64c207d9",
   "metadata": {},
   "outputs": [],
   "source": [
    "ax = scatter_matrix(df_resources[\"Imports\"], figsize=(15,10), alpha=0.3)"
   ]
  },
  {
   "cell_type": "code",
   "execution_count": null,
   "id": "b72b5270",
   "metadata": {},
   "outputs": [],
   "source": [
    "ax = scatter_matrix(df_resources[\"Exports\"], figsize=(15,10), alpha=0.3)"
   ]
  },
  {
   "cell_type": "markdown",
   "id": "559afb4c",
   "metadata": {},
   "source": [
    "Obviously, there is no connection between diferent resources."
   ]
  },
  {
   "cell_type": "markdown",
   "id": "100ad8fb",
   "metadata": {},
   "source": [
    "## Conclusions"
   ]
  },
  {
   "cell_type": "markdown",
   "id": "fefdbb02",
   "metadata": {},
   "source": [
    "In this assignment we looked at the analysis of different resources imports and exports. As we might expect, COEXBUS had most increase during 70 years and BMEXBUS almost didn't changed at all for export theme, COIMXBUS had most increase during 70 years and BOIMBUS almost didn't changed at all for import theme.\n",
    "\n",
    "One particular challenge of using the **US Energy Information Administration API** is that ou have to reverse the dataframe(making the year to be index instead of resource name) and choose a proper method to deal with missing data, which meant that the data collection process had to be carefully handled to build up an initial raw dataset. A considerable level of data preprocessing was also required to merge the raw data into a single dataset for each theme.\n",
    "\n",
    "A number of interesting avenues could be considered for further analysis of this data:\n",
    "\n",
    "The analysis could be extended to a larger number of resources to further investigation based on text descriptions.\n",
    "These charts should be improved, such as adding some details on the charts or adding some pie charts, which can more intuitively reflect the characteristics of the data.\n",
    "More data can also be collected to compare whether there is some correlation between different energy imports and exports."
   ]
  }
 ],
 "metadata": {
  "kernelspec": {
   "display_name": "Python 3 (ipykernel)",
   "language": "python",
   "name": "python3"
  },
  "language_info": {
   "codemirror_mode": {
    "name": "ipython",
    "version": 3
   },
   "file_extension": ".py",
   "mimetype": "text/x-python",
   "name": "python",
   "nbconvert_exporter": "python",
   "pygments_lexer": "ipython3",
   "version": "3.9.0"
  }
 },
 "nbformat": 4,
 "nbformat_minor": 5
}
