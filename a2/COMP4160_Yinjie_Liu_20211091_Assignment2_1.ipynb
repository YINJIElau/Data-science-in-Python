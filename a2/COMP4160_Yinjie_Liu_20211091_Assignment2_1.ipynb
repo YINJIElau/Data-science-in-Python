{
 "cells": [
  {
   "cell_type": "markdown",
   "id": "4c25d45c",
   "metadata": {},
   "source": [
    "# COMP4160_Yinjie_Liu_20211091_Assignment2_1"
   ]
  },
  {
   "cell_type": "markdown",
   "id": "2acaf1bd",
   "metadata": {},
   "source": [
    "In this assignment, I am going to scrape the data about product review from the wesite page below:  \n",
    "[Product Reviews Archive](http://mlg.ucd.ie/modules/python/assign2/20211091/)\n",
    "\n",
    "And I will save this data into proper format for the next processes.  \n",
    "In the task 2, I firstly process the data including deleting unnecessary comlumns, adding labels based on the data's info and so on....  \n",
    "I tried the different models to classify two different tasks(Review Sentiment Classification and Review Helpfulness Classification). And it will be illustrated in detail in the another notebook."
   ]
  },
  {
   "cell_type": "code",
   "execution_count": 1,
   "id": "b48c48a4",
   "metadata": {},
   "outputs": [],
   "source": [
    "import urllib.request\n",
    "import bs4\n",
    "import pandas as pd\n",
    "import numpy as np\n",
    "import re"
   ]
  },
  {
   "cell_type": "markdown",
   "id": "436d0ac5",
   "metadata": {},
   "source": [
    "# Task 1. Data Collection"
   ]
  },
  {
   "cell_type": "markdown",
   "id": "28ec7591",
   "metadata": {},
   "source": [
    "The data on the webpage contains review information of different years and months,  \n",
    "so I set up multiple iterations, including reading the data of the first webpage in a certain month,  \n",
    "and then reading the data of other pages according to the data of the first webpage."
   ]
  },
  {
   "cell_type": "code",
   "execution_count": 3,
   "id": "33fca414",
   "metadata": {},
   "outputs": [],
   "source": [
    "years = [2016,2017,2018,2019,2020,2021]\n",
    "months = [\"jan\", \"feb\", \"mar\", \"apr\", \"may\", \"jun\", \"jul\", \"aug\", \"sep\", \"oct\", \"nov\", \"dec\"]\n",
    "\n",
    "# These lists will save different types of inforamtion.\n",
    "image_list = []\n",
    "title_list = []\n",
    "helpfulness_list = []\n",
    "review_list = []\n",
    "\n",
    "for year in years:\n",
    "    for month in months:\n",
    "        \n",
    "        # Reading the first page data\n",
    "        link = \"http://mlg.ucd.ie/modules/python/assign2/20211091/reviews-\" + str(year) + \"-\" + month +\"-01.html\"\n",
    "        response = urllib.request.urlopen(link) \n",
    "        html = response.read().decode()\n",
    "\n",
    "        parser = bs4.BeautifulSoup(html,\"html.parser\")\n",
    "        \n",
    "        # save the star rating of the review data\n",
    "        for content in parser.find_all(\"img\"): \n",
    "            image_src = content.get('src')\n",
    "            if int(re.findall(r\"\\d\",image_src.split(\"/\")[-1])[0])>3:\n",
    "                image_list.append(1) # positive as the number of star is bigger than 3\n",
    "            else:\n",
    "                image_list.append(0) # negative as the contrary condition\n",
    "            \n",
    "        # save the title text of the review data\n",
    "        for content in parser.find_all(\"h5\"):\n",
    "            title = content.get_text() \n",
    "            title_list.append(title)\n",
    "        \n",
    "        # save the main body text of the review data\n",
    "        for content in parser.find_all(\"p\", class_ = 'review-body'):\n",
    "            text = content.get_text()\n",
    "\n",
    "            review_list.append(text)\n",
    "        \n",
    "        # save the review helpfulness information data\n",
    "        for content in parser.find_all(\"p\", class_ = 'metadata'):\n",
    "            text = content.get_text()\n",
    "            if \"users\" in text:\n",
    "                helpfulness_list.append(text)\n",
    "            else:\n",
    "                pass\n",
    "        \n",
    "        \n",
    "        # starting reda the rest of pages' data\n",
    "        for page in range(2, int(parser.find(\"h4\").get_text().split(\" \")[-1])+1):\n",
    "            link = \"http://mlg.ucd.ie/modules/python/assign2/20211091/reviews-\" + str(year) + \"-\" + month +\"-0\" + str(page) + \".html\"\n",
    "            \n",
    "            response = urllib.request.urlopen(link) \n",
    "            html = response.read().decode()\n",
    "\n",
    "            parser = bs4.BeautifulSoup(html,\"html.parser\")\n",
    "            \n",
    "            for content in parser.find_all(\"img\"): \n",
    "                image_src = content.get('src')\n",
    "                if int(re.findall(r\"\\d\",image_src.split(\"/\")[-1])[0])>3:\n",
    "                    image_list.append(1) # positive\n",
    "                else:\n",
    "                    image_list.append(0) # negative\n",
    "                    \n",
    "            for content in parser.find_all(\"h5\"):\n",
    "                title = content.get_text() \n",
    "                title_list.append(title)\n",
    "\n",
    "            for content in parser.find_all(\"p\", class_ = 'review-body'):\n",
    "                text = content.get_text()\n",
    "\n",
    "                review_list.append(text)\n",
    "\n",
    "            for content in parser.find_all(\"p\", class_ = 'metadata'):\n",
    "                text = content.get_text()\n",
    "                if \"users\" in text:\n",
    "                    helpfulness_list.append(text)\n",
    "                else:\n",
    "                    pass\n"
   ]
  },
  {
   "cell_type": "markdown",
   "id": "49d17ec9",
   "metadata": {},
   "source": [
    "I saved the data as dataframe into a csv file since it will be more convenient for the next work."
   ]
  },
  {
   "cell_type": "code",
   "execution_count": 4,
   "id": "822cf807",
   "metadata": {},
   "outputs": [],
   "source": [
    "df = pd.DataFrame(list(zip(image_list,title_list,review_list, helpfulness_list)), columns = ['Label','Title', 'Review', 'Helpfulness info'])\n",
    "\n",
    "df.to_csv(\"data.csv\",encoding=\"utf_8_sig\")"
   ]
  },
  {
   "cell_type": "code",
   "execution_count": null,
   "id": "a40edddd",
   "metadata": {},
   "outputs": [],
   "source": []
  }
 ],
 "metadata": {
  "kernelspec": {
   "display_name": "comp47650_env",
   "language": "python",
   "name": "comp47650_env"
  },
  "language_info": {
   "codemirror_mode": {
    "name": "ipython",
    "version": 3
   },
   "file_extension": ".py",
   "mimetype": "text/x-python",
   "name": "python",
   "nbconvert_exporter": "python",
   "pygments_lexer": "ipython3",
   "version": "3.6.13"
  }
 },
 "nbformat": 4,
 "nbformat_minor": 5
}
